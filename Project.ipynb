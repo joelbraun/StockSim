{
 "cells": [
  {
   "cell_type": "markdown",
   "metadata": {},
   "source": [
    "### DATA 301   Spring 2016\n",
    "\n",
    "### Joel Braun            jsbraun@calpoly.edu\n",
    "### James Ly              jly03@calpoly.edu\n",
    "### Avinash Sharma  avsharma@calpoly.edu\n",
    "\n",
    "### Final Project\n",
    "\n",
    "### Pricing American Options by Simulation: A Comparison of Methods"
   ]
  },
  {
   "cell_type": "code",
   "execution_count": 1,
   "metadata": {
    "collapsed": true
   },
   "outputs": [],
   "source": [
    "## imports\n",
    "%matplotlib inline\n",
    "\n",
    "import numpy as np\n",
    "import analysisfuncs as af\n",
    "import matplotlib \n",
    "import matplotlib.pyplot as plt\n",
    "import seaborn\n",
    "seaborn.set()"
   ]
  },
  {
   "cell_type": "code",
   "execution_count": 2,
   "metadata": {
    "collapsed": false
   },
   "outputs": [],
   "source": [
    "## parse data into dictionaries\n",
    "\n",
    "simCallsDict = af.parseSimCalls(\"simcalls.csv\")\n",
    "simPutsDict = af.parseSimPuts(\"simputs.csv\")"
   ]
  },
  {
   "cell_type": "markdown",
   "metadata": {},
   "source": [
    "## Call Options Dataset\n",
    "### Question 1: Black-Scholes vs. Binomial\n",
    "### Which options pricing class provides better accuracy?"
   ]
  },
  {
   "cell_type": "markdown",
   "metadata": {},
   "source": [
    "<b>black-scholes accuracies</b>"
   ]
  },
  {
   "cell_type": "code",
   "execution_count": 31,
   "metadata": {
    "collapsed": false
   },
   "outputs": [
    {
     "name": "stdout",
     "output_type": "stream",
     "text": [
      "Barone-Adesi Whaley\n",
      "sse: 43746.812196\n",
      "avg sse: 6.88384141558\n",
      "threshold acc: 21.620771046420142\n",
      "sentiment acc: 53.186467348544454\n",
      "\n",
      "Bjerksund-Stensland\n",
      "sse: 43746.812196\n",
      "avg sse: 6.88384141558\n",
      "threshold acc: 21.620771046420142 %\n",
      "sentiment acc: 53.186467348544454 %\n"
     ]
    }
   ],
   "source": [
    "## Barone-Adesi Whaley \n",
    "baroneReal, baroneEstimates = af.getRealEstimates(simCallsDict, 2)\n",
    "print(\"Barone-Adesi Whaley\")\n",
    "print(\"sse:\",af.sse(baroneEstimates, baroneReal))\n",
    "print(\"avg sse:\",af.avgSSE(baroneEstimates, baroneReal))\n",
    "print(\"threshold acc:\", af.thresholdAcc(baroneEstimates, baroneReal, 0.1))\n",
    "print(\"sentiment acc:\", af.sentimentAcc(baroneEstimates, baroneReal))\n",
    "\n",
    "## Bjerksund-Stensland \n",
    "bjerksundReal, bjerksundEstimates = af.getRealEstimates(simCallsDict, 3)\n",
    "print(\"\\nBjerksund-Stensland\")\n",
    "print(\"sse:\",af.sse(bjerksundEstimates, bjerksundReal))\n",
    "print(\"avg sse:\",af.avgSSE(bjerksundEstimates, bjerksundReal))\n",
    "print(\"threshold acc:\", af.thresholdAcc(bjerksundEstimates, bjerksundReal, 0.1),\"%\")\n",
    "print(\"sentiment acc:\", af.sentimentAcc(bjerksundEstimates, bjerksundReal),\"%\")"
   ]
  },
  {
   "cell_type": "markdown",
   "metadata": {},
   "source": [
    "<b>bionomial accuracies</b>"
   ]
  },
  {
   "cell_type": "code",
   "execution_count": 32,
   "metadata": {
    "collapsed": false
   },
   "outputs": [
    {
     "name": "stdout",
     "output_type": "stream",
     "text": [
      "Cox-Ross-Rubenstein\n",
      "sse: 43746.812196\n",
      "avg sse: 6.88384141558\n",
      "threshold acc: 21.620771046420142 %\n",
      "sentiment acc: 53.186467348544454 %\n",
      "\n",
      "Jarrow-Rudd\n",
      "sse: 43746.812196\n",
      "avg sse: 6.88384141558\n",
      "threshold acc: 21.620771046420142 %\n",
      "sentiment acc: 53.186467348544454 %\n",
      "\n",
      "Equal Probabilities\n",
      "sse: 43747.017621\n",
      "avg sse 6.88387374052\n",
      "threshold acc: 21.620771046420142 %\n",
      "sentiment acc: 53.186467348544454 %\n",
      "\n",
      "Trigeorgis\n",
      "sse: 43746.812196\n",
      "avg sse 6.88384141558\n",
      "threshold acc: 21.620771046420142 %\n",
      "sentiment acc: 53.186467348544454 %\n",
      "\n",
      "Tian\n",
      "sse: 43746.812196\n",
      "avg sse 6.88384141558\n",
      "threshold acc: 21.620771046420142 %\n",
      "sentiment acc: 53.186467348544454 %\n",
      "\n",
      "Leisen-Reimer\n",
      "sse: 43746.812196\n",
      "avg sse 6.88384141558\n",
      "threshold acc: 21.620771046420142 %\n",
      "sentiment acc: 53.186467348544454 %\n"
     ]
    }
   ],
   "source": [
    "## Cox-Ross-Rubenstein \n",
    "coxReal, coxEstimates = af.getRealEstimates(simCallsDict, 5)\n",
    "print(\"Cox-Ross-Rubenstein\")\n",
    "print(\"sse:\",af.sse(coxEstimates, coxReal))\n",
    "print(\"avg sse:\",af.avgSSE(coxEstimates, coxReal))\n",
    "print(\"threshold acc:\", af.thresholdAcc(coxEstimates, coxReal, 0.1),\"%\")\n",
    "print(\"sentiment acc:\", af.sentimentAcc(coxEstimates, coxReal),\"%\")\n",
    "\n",
    "## Jarrow-Rudd \n",
    "jarrowReal, jarrowEstimates = af.getRealEstimates(simCallsDict, 6)\n",
    "print(\"\\nJarrow-Rudd\")\n",
    "print(\"sse:\", af.sse(jarrowEstimates, jarrowReal))\n",
    "print(\"avg sse:\", af.avgSSE(jarrowEstimates, jarrowReal))\n",
    "print(\"threshold acc:\", af.thresholdAcc(jarrowEstimates, jarrowReal, 0.1),\"%\")\n",
    "print(\"sentiment acc:\", af.sentimentAcc(jarrowEstimates, jarrowReal),\"%\")\n",
    "\n",
    "## Equal Probabilities \n",
    "equalReal, equalEstimates = af.getRealEstimates(simCallsDict, 7)\n",
    "print(\"\\nEqual Probabilities\")\n",
    "print(\"sse:\", af.sse(equalEstimates, equalReal))\n",
    "print(\"avg sse\", af.avgSSE(equalEstimates, equalReal))\n",
    "print(\"threshold acc:\", af.thresholdAcc(equalEstimates, equalReal, 0.1),\"%\")\n",
    "print(\"sentiment acc:\", af.sentimentAcc(equalEstimates, equalReal),\"%\")\n",
    "\n",
    "## Trigeorgis \n",
    "trigeorgisReal, trigeorgisEstimates = af.getRealEstimates(simCallsDict, 8)\n",
    "print(\"\\nTrigeorgis\")\n",
    "print(\"sse:\", af.sse(trigeorgisEstimates, trigeorgisReal))\n",
    "print(\"avg sse\", af.avgSSE(trigeorgisEstimates, trigeorgisReal))\n",
    "print(\"threshold acc:\", af.thresholdAcc(trigeorgisEstimates, trigeorgisReal, 0.1),\"%\")\n",
    "print(\"sentiment acc:\", af.sentimentAcc(trigeorgisEstimates, trigeorgisReal),\"%\")\n",
    "\n",
    "## Tian \n",
    "tianReal, tianEstimates = af.getRealEstimates(simCallsDict, 9)\n",
    "print(\"\\nTian\")\n",
    "print(\"sse:\", af.sse(tianEstimates, tianReal))\n",
    "print(\"avg sse\", af.avgSSE(tianEstimates, tianReal))\n",
    "print(\"threshold acc:\", af.thresholdAcc(tianEstimates, tianReal, 0.1),\"%\")\n",
    "print(\"sentiment acc:\", af.sentimentAcc(tianEstimates, tianReal),\"%\")\n",
    "\n",
    "## Leisen-Reimer \n",
    "leisenReal, leisenEstimates = af.getRealEstimates(simCallsDict, 10)\n",
    "print(\"\\nLeisen-Reimer\")\n",
    "print(\"sse:\", af.sse(leisenEstimates, leisenReal))\n",
    "print(\"avg sse\", af.avgSSE(leisenEstimates, leisenReal))\n",
    "print(\"threshold acc:\", af.thresholdAcc(leisenEstimates, leisenReal, 0.1),\"%\")\n",
    "print(\"sentiment acc:\", af.sentimentAcc(leisenEstimates, leisenReal),\"%\")"
   ]
  },
  {
   "cell_type": "markdown",
   "metadata": {},
   "source": [
    "### Analysis for Question 1"
   ]
  },
  {
   "cell_type": "markdown",
   "metadata": {},
   "source": [
    "Based on the results above, the accuracies for the for Black-Scholes and Binomial classes seem very similiar. The sum squared error for all of them seems to be around 43,746. The average sum squared error also seems to be around 6.88. The threshold accuracy for all of them seems to around 21% for an epsilon of 0.1. The sentiment accuracy for all the estimations seems to be around 53%. Based on these results there does not seem to be one class that is better than the other when it comes to estimating the real price of the call options. All these estimations seem to general have the same amount of error."
   ]
  },
  {
   "cell_type": "markdown",
   "metadata": {},
   "source": [
    "### Question 2: Short term accuracy\n",
    "### Which options pricing model is the most accurate in the short term?"
   ]
  },
  {
   "cell_type": "code",
   "execution_count": null,
   "metadata": {
    "collapsed": true
   },
   "outputs": [],
   "source": []
  },
  {
   "cell_type": "markdown",
   "metadata": {},
   "source": [
    "#### Question 3: Long term accuracy\n",
    "#### Which options pricing model is the most accurate in the long term?"
   ]
  },
  {
   "cell_type": "code",
   "execution_count": null,
   "metadata": {
    "collapsed": true
   },
   "outputs": [],
   "source": []
  },
  {
   "cell_type": "markdown",
   "metadata": {},
   "source": [
    "## Put Options Dataset\n",
    "### Question 1: Black-Scholes vs. Binomial\n",
    "### Which options pricing class provides better accuracy?"
   ]
  },
  {
   "cell_type": "markdown",
   "metadata": {},
   "source": [
    "<b>black-scholes accuracies</b>"
   ]
  },
  {
   "cell_type": "code",
   "execution_count": 26,
   "metadata": {
    "collapsed": false
   },
   "outputs": [
    {
     "name": "stdout",
     "output_type": "stream",
     "text": [
      "Barone-Adesi Whaley\n",
      "sse: 76097.149934\n",
      "avg sse: 10.639981814\n",
      "threshold acc: 21.112975391498882\n",
      "sentiment acc: 30.60682326621924\n",
      "\n",
      "Bjerksund-Stensland\n",
      "sse: 43746.812196\n",
      "avg sse: 6.88384141558\n",
      "threshold acc: 21.620771046420142\n",
      "sentiment acc: 53.186467348544454\n"
     ]
    }
   ],
   "source": [
    "## Barone-Adesi Whaley \n",
    "baroneReal, baroneEstimates = af.getRealEstimates(simPutsDict, 2)\n",
    "print(\"Barone-Adesi Whaley\")\n",
    "print(\"sse:\",af.sse(baroneEstimates, baroneReal))\n",
    "print(\"avg sse:\",af.avgSSE(baroneEstimates, baroneReal))\n",
    "print(\"threshold acc:\", af.thresholdAcc(baroneEstimates, baroneReal, 0.1),\"%\")\n",
    "print(\"sentiment acc:\", af.sentimentAcc(baroneEstimates, baroneReal),\"%\")\n",
    "\n",
    "## Bjerksund-Stensland \n",
    "bjerksundReal, bjerksundEstimates = af.getRealEstimates(simPutsDict, 3)\n",
    "print(\"\\nBjerksund-Stensland\")\n",
    "print(\"sse:\",af.sse(bjerksundEstimates, bjerksundReal))\n",
    "print(\"avg sse:\",af.avgSSE(bjerksundEstimates, bjerksundReal))\n",
    "print(\"threshold acc:\", af.thresholdAcc(bjerksundEstimates, bjerksundReal, 0.1),\"%\")\n",
    "print(\"sentiment acc:\", af.sentimentAcc(bjerksundEstimates, bjerksundReal),\"%\")"
   ]
  },
  {
   "cell_type": "markdown",
   "metadata": {},
   "source": [
    "<b>binomial accuracies</b>"
   ]
  },
  {
   "cell_type": "code",
   "execution_count": 33,
   "metadata": {
    "collapsed": false
   },
   "outputs": [
    {
     "name": "stdout",
     "output_type": "stream",
     "text": [
      "Cox-Ross-Rubenstein\n",
      "sse: 76097.10474\n",
      "avg sse: 10.639975495\n",
      "threshold acc: 21.112975391498882 %\n",
      "sentiment acc: 30.536912751677853 %\n",
      "\n",
      "Jarrow-Rudd\n",
      "sse: 76097.10474\n",
      "avg sse: 10.639975495\n",
      "threshold acc: 21.112975391498882 %\n",
      "sentiment acc: 30.536912751677853 %\n",
      "\n",
      "Equal Probabilities\n",
      "sse: 76097.170049\n",
      "avg sse 10.6399846265\n",
      "threshold acc: 21.112975391498882 %\n",
      "sentiment acc: 30.536912751677853 %\n",
      "\n",
      "Trigeorgis\n",
      "sse: 76097.10474\n",
      "avg sse 10.639975495\n",
      "threshold acc: 21.112975391498882 %\n",
      "sentiment acc: 30.536912751677853 %\n",
      "\n",
      "Tian\n",
      "sse: 76097.10474\n",
      "avg sse 10.639975495\n",
      "threshold acc: 21.112975391498882 %\n",
      "sentiment acc: 30.536912751677853 %\n",
      "\n",
      "Leisen-Reimer\n",
      "sse: 76097.10474\n",
      "avg sse 10.639975495\n",
      "threshold acc: 21.112975391498882 %\n",
      "sentiment acc: 30.536912751677853 %\n"
     ]
    }
   ],
   "source": [
    "## Cox-Ross-Rubenstein \n",
    "coxReal, coxEstimates = af.getRealEstimates(simPutsDict, 5)\n",
    "print(\"Cox-Ross-Rubenstein\")\n",
    "print(\"sse:\",af.sse(coxEstimates, coxReal))\n",
    "print(\"avg sse:\",af.avgSSE(coxEstimates, coxReal))\n",
    "print(\"threshold acc:\", af.thresholdAcc(coxEstimates, coxReal, 0.1),\"%\")\n",
    "print(\"sentiment acc:\", af.sentimentAcc(coxEstimates, coxReal),\"%\")\n",
    "\n",
    "## Jarrow-Rudd \n",
    "jarrowReal, jarrowEstimates = af.getRealEstimates(simPutsDict, 6)\n",
    "print(\"\\nJarrow-Rudd\")\n",
    "print(\"sse:\", af.sse(jarrowEstimates, jarrowReal))\n",
    "print(\"avg sse:\", af.avgSSE(jarrowEstimates, jarrowReal))\n",
    "print(\"threshold acc:\", af.thresholdAcc(jarrowEstimates, jarrowReal, 0.1),\"%\")\n",
    "print(\"sentiment acc:\", af.sentimentAcc(jarrowEstimates, jarrowReal),\"%\")\n",
    "\n",
    "## Equal Probabilities \n",
    "equalReal, equalEstimates = af.getRealEstimates(simPutsDict, 7)\n",
    "print(\"\\nEqual Probabilities\")\n",
    "print(\"sse:\", af.sse(equalEstimates, equalReal))\n",
    "print(\"avg sse\", af.avgSSE(equalEstimates, equalReal))\n",
    "print(\"threshold acc:\", af.thresholdAcc(equalEstimates, equalReal, 0.1),\"%\")\n",
    "print(\"sentiment acc:\", af.sentimentAcc(equalEstimates, equalReal),\"%\")\n",
    "\n",
    "## Trigeorgis \n",
    "trigeorgisReal, trigeorgisEstimates = af.getRealEstimates(simPutsDict, 8)\n",
    "print(\"\\nTrigeorgis\")\n",
    "print(\"sse:\", af.sse(trigeorgisEstimates, trigeorgisReal))\n",
    "print(\"avg sse\", af.avgSSE(trigeorgisEstimates, trigeorgisReal))\n",
    "print(\"threshold acc:\", af.thresholdAcc(trigeorgisEstimates, trigeorgisReal, 0.1),\"%\")\n",
    "print(\"sentiment acc:\", af.sentimentAcc(trigeorgisEstimates, trigeorgisReal),\"%\")\n",
    "\n",
    "## Tian \n",
    "tianReal, tianEstimates = af.getRealEstimates(simPutsDict, 9)\n",
    "print(\"\\nTian\")\n",
    "print(\"sse:\", af.sse(tianEstimates, tianReal))\n",
    "print(\"avg sse\", af.avgSSE(tianEstimates, tianReal))\n",
    "print(\"threshold acc:\", af.thresholdAcc(tianEstimates, tianReal, 0.1),\"%\")\n",
    "print(\"sentiment acc:\", af.sentimentAcc(tianEstimates, tianReal),\"%\")\n",
    "\n",
    "## Leisen-Reimer \n",
    "leisenReal, leisenEstimates = af.getRealEstimates(simPutsDict, 10)\n",
    "print(\"\\nLeisen-Reimer\")\n",
    "print(\"sse:\", af.sse(leisenEstimates, leisenReal))\n",
    "print(\"avg sse\", af.avgSSE(leisenEstimates, leisenReal))\n",
    "print(\"threshold acc:\", af.thresholdAcc(leisenEstimates, leisenReal, 0.1),\"%\")\n",
    "print(\"sentiment acc:\", af.sentimentAcc(leisenEstimates, leisenReal),\"%\")"
   ]
  },
  {
   "cell_type": "markdown",
   "metadata": {},
   "source": [
    "### Analysis for Question 1"
   ]
  },
  {
   "cell_type": "markdown",
   "metadata": {},
   "source": [
    "Based on the results above, the accuracies for the for Black-Scholes and Binomial classes seem very similiar. The sum squared error for all of them seems to be around 76,097. The average sum squared error also seems to be around 10.63. The threshold accuracy for all of them seems to around 21% for an epsilon of 0.1. The sentiment accuracy for all the estimations seems to be around 30%. Based on these results there does not seem to be one class that is better than the other when it comes to estimating the real price of the put options. All these estimations seem to general have the same amount of error."
   ]
  },
  {
   "cell_type": "markdown",
   "metadata": {},
   "source": [
    "#### Question 2: Short term accuracy\n",
    "#### Which options pricing model is the most accurate in the short term?"
   ]
  },
  {
   "cell_type": "code",
   "execution_count": null,
   "metadata": {
    "collapsed": true
   },
   "outputs": [],
   "source": []
  },
  {
   "cell_type": "markdown",
   "metadata": {},
   "source": [
    "#### Question 3: Long term accuracy\n",
    "#### Which options pricing model is the most accurate in the long term?"
   ]
  },
  {
   "cell_type": "code",
   "execution_count": null,
   "metadata": {
    "collapsed": true
   },
   "outputs": [],
   "source": []
  }
 ],
 "metadata": {
  "kernelspec": {
   "display_name": "Python 3",
   "language": "python",
   "name": "python3"
  },
  "language_info": {
   "codemirror_mode": {
    "name": "ipython",
    "version": 3
   },
   "file_extension": ".py",
   "mimetype": "text/x-python",
   "name": "python",
   "nbconvert_exporter": "python",
   "pygments_lexer": "ipython3",
   "version": "3.4.3"
  }
 },
 "nbformat": 4,
 "nbformat_minor": 0
}
